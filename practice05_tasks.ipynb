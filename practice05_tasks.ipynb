{
 "cells": [
  {
   "cell_type": "markdown",
   "id": "54f0c521",
   "metadata": {},
   "source": [
    "# Practice 5\n",
    "\n",
    "## Task 3"
   ]
  },
  {
   "metadata": {},
   "cell_type": "code",
   "outputs": [],
   "execution_count": null,
   "source": "print(\"Hello Józsi\")",
   "id": "e23f9ff824eb97ed"
  }
 ],
 "metadata": {
  "language_info": {
   "name": "python"
  }
 },
 "nbformat": 4,
 "nbformat_minor": 5
}
