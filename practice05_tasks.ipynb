{
 "cells": [
  {
   "cell_type": "markdown",
   "id": "54f0c521",
   "metadata": {},
   "source": [
    "# Practice 5\n",
    "\n",
    "## Task 3"
   ]
  },
  {
   "metadata": {
    "ExecuteTime": {
     "end_time": "2025-10-08T13:11:28.565778Z",
     "start_time": "2025-10-08T13:11:28.087844Z"
    }
   },
   "cell_type": "code",
   "source": [
    "import numpy as np\n",
    "\n",
    "def gauss_seidel_loops(A, b, tol=1e-10, max_iterations=1000):\n",
    "    n = len(b)\n",
    "    x = np.zeros(n)\n",
    "\n",
    "    for iteration in range(max_iterations):\n",
    "        x_new = np.copy(x)\n",
    "\n",
    "        for i in range(n):\n",
    "            sum1 = 0.0\n",
    "            sum2 = 0.0\n",
    "\n",
    "            # Sum for j < i\n",
    "            for j in range(i):\n",
    "                sum1 += A[i][j] * x_new[j]\n",
    "\n",
    "            # Sum for j > i\n",
    "            for j in range(i + 1, n):\n",
    "                sum2 += A[i][j] * x[j]\n",
    "\n",
    "            x_new[i] = (b[i] - sum1 - sum2) / A[i][i]\n",
    "\n",
    "        # Converge check\n",
    "        if np.linalg.norm(x_new - x, ord=np.inf) < tol:\n",
    "            print(f\"Converged after {iteration + 1} iterations.\")\n",
    "            return x_new\n",
    "\n",
    "        x = x_new\n",
    "\n",
    "    print(\"Did not converge.\")\n",
    "    return x"
   ],
   "id": "e23f9ff824eb97ed",
   "outputs": [],
   "execution_count": 1
  },
  {
   "metadata": {
    "ExecuteTime": {
     "end_time": "2025-10-08T13:11:28.574382Z",
     "start_time": "2025-10-08T13:11:28.570644Z"
    }
   },
   "cell_type": "code",
   "source": [
    "A = np.array([[4.0, 1.0, 2.0],\n",
    "              [3.0, 5.0, 1.0],\n",
    "              [1.0, 1.0, 3.0]])\n",
    "b = np.array([4.0, 7.0, 3.0])\n",
    "\n",
    "x = gauss_seidel_loops(A, b)\n",
    "print(\"Solution (loop-based):\", x)\n",
    "\n"
   ],
   "id": "248e9ced4790d1c",
   "outputs": [
    {
     "name": "stdout",
     "output_type": "stream",
     "text": [
      "Converged after 16 iterations.\n",
      "Solution (loop-based): [0.5 1.  0.5]\n"
     ]
    }
   ],
   "execution_count": 2
  }
 ],
 "metadata": {
  "language_info": {
   "name": "python"
  },
  "kernelspec": {
   "name": "python3",
   "language": "python",
   "display_name": "Python 3 (ipykernel)"
  }
 },
 "nbformat": 4,
 "nbformat_minor": 5
}
