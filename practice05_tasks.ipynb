{
 "cells": [
  {
   "cell_type": "markdown",
   "id": "54f0c521",
   "metadata": {},
   "source": [
    "# Practice 5\n",
    "\n",
    "## Task 3"
   ]
  },
  {
   "cell_type": "code",
   "execution_count": 3,
   "id": "e23f9ff824eb97ed",
   "metadata": {
    "ExecuteTime": {
     "end_time": "2025-10-08T13:11:28.565778Z",
     "start_time": "2025-10-08T13:11:28.087844Z"
    }
   },
   "outputs": [],
   "source": [
    "import numpy as np\n",
    "\n",
    "def gauss_seidel_loops(A, b, tol=1e-10, max_iterations=1000):\n",
    "    n = len(b)\n",
    "    x = np.zeros(n)\n",
    "\n",
    "    for iteration in range(max_iterations):\n",
    "        x_new = np.copy(x)\n",
    "\n",
    "        for i in range(n):\n",
    "            sum1 = 0.0\n",
    "            sum2 = 0.0\n",
    "\n",
    "            # Sums\n",
    "            sum1 = np.dot(A[i, :i], x_new[:i])\n",
    "            sum2 = np.dot(A[i, i+1:], x_new[i+1:])\n",
    "\n",
    "            x_new[i] = (b[i] - sum1 - sum2) / A[i][i]\n",
    "\n",
    "        # Converge check\n",
    "        if np.linalg.norm(x_new - x, ord=np.inf) < tol:\n",
    "            print(f\"Converged after {iteration + 1} iterations.\")\n",
    "            return x_new\n",
    "\n",
    "        x = x_new\n",
    "\n",
    "    print(\"Did not converge.\")\n",
    "    return x"
   ]
  },
  {
   "cell_type": "code",
   "execution_count": 4,
   "id": "248e9ced4790d1c",
   "metadata": {
    "ExecuteTime": {
     "end_time": "2025-10-08T13:11:28.574382Z",
     "start_time": "2025-10-08T13:11:28.570644Z"
    }
   },
   "outputs": [
    {
     "name": "stdout",
     "output_type": "stream",
     "text": [
      "Converged after 16 iterations.\n",
      "Solution (loop-based): [0.5 1.  0.5]\n"
     ]
    }
   ],
   "source": [
    "A = np.array([[4.0, 1.0, 2.0],\n",
    "              [3.0, 5.0, 1.0],\n",
    "              [1.0, 1.0, 3.0]])\n",
    "b = np.array([4.0, 7.0, 3.0])\n",
    "\n",
    "x = gauss_seidel_loops(A, b)\n",
    "print(\"Solution (loop-based):\", x)\n",
    "\n"
   ]
  }
 ],
 "metadata": {
  "kernelspec": {
   "display_name": "Python 3",
   "language": "python",
   "name": "python3"
  },
  "language_info": {
   "codemirror_mode": {
    "name": "ipython",
    "version": 3
   },
   "file_extension": ".py",
   "mimetype": "text/x-python",
   "name": "python",
   "nbconvert_exporter": "python",
   "pygments_lexer": "ipython3",
   "version": "3.13.7"
  }
 },
 "nbformat": 4,
 "nbformat_minor": 5
}
